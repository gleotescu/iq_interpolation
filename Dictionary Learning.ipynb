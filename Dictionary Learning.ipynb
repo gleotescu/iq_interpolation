{
 "cells": [
  {
   "cell_type": "markdown",
   "metadata": {},
   "source": [
    "# Dictionary learning"
   ]
  },
  {
   "cell_type": "markdown",
   "metadata": {},
   "source": [
    "## Initialize data"
   ]
  },
  {
   "cell_type": "code",
   "execution_count": 4,
   "metadata": {},
   "outputs": [],
   "source": [
    "# initialize data \n",
    "###\n",
    "import numpy as np\n",
    "import matplotlib.pyplot as plt\n",
    "from scipy.optimize import curve_fit\n",
    "\n",
    "# plot table\n",
    "import texttable as tt\n",
    "\n",
    "def plotTable(headers,\n",
    "              rows,\n",
    "              valign=True,\n",
    "              column_width=False,\n",
    "              no_deco=False,\n",
    "              precision=1):\n",
    "    tab = tt.Texttable()\n",
    "    if len(headers) > 0:\n",
    "        tab.header(headers)\n",
    "    tab.set_precision(precision)\n",
    "    for row in rows:\n",
    "        tab.add_row(row)\n",
    "\n",
    "    if valign and len(headers) > 0:\n",
    "        tab.set_cols_valign(['m'] * len(headers))\n",
    "\n",
    "    if column_width:\n",
    "        columns = [0] * len(rows[0])\n",
    "        for row in rows:\n",
    "            for i, cell in enumerate(row):\n",
    "                if isinstance(row[i], str):\n",
    "                    columns[i] = max(\n",
    "                        columns[i],\n",
    "                        max([len(line) for line in row[i].split('\\n')]))\n",
    "        for i, head in enumerate(headers):\n",
    "            columns[i] = max(columns[i], len(head))\n",
    "        tab.set_cols_width(columns)\n",
    "\n",
    "    if no_deco:\n",
    "        tab.set_deco(tt.Texttable.HEADER | tt.Texttable.VLINES)\n",
    "\n",
    "    s = tab.draw()\n",
    "    return s\n",
    "\n",
    "def data_from_file(file_name,case):\n",
    "    #case = 1-> Id from file. Iq in 0->220 > 'i_direct_flux'\n",
    "    #case = 2 -> Iq from file. Id in 0->220 > 'j_q_flux'\n",
    "    data = np.loadtxt(file_name)\n",
    "    ids = data[0, :]    \n",
    "    dfs = data[1:, :]\n",
    "    iqs = list(range(220, -1, -20))\n",
    "    if case == 1:\n",
    "        xLabel = 'd-axis current - Id [A]'\n",
    "        yLabel = 'Direct flux linkage [Wb]'\n",
    "        Is = 'Iq '\n",
    "    elif case == 2:\n",
    "        xLabel = 'q-axis current -Iq [A]'\n",
    "        yLabel = 'Quadratic flux [Wb]'  \n",
    "        Is = 'Id'\n",
    "    return ids, dfs, iqs, xLabel, yLabel, Is\n",
    "\n",
    "\n",
    "ids, dfs, iqs, xLabel, yLabel, Is = data_from_file('i_direct_flux',1 )\n"
   ]
  },
  {
   "cell_type": "code",
   "execution_count": 29,
   "metadata": {},
   "outputs": [
    {
     "name": "stdout",
     "output_type": "stream",
     "text": [
      "[[-1.9975635e-05  8.6870954e-02  1.3827379e-01  1.6177552e-01\n",
      "   1.7549161e-01  1.8505898e-01  1.9207943e-01  1.9772419e-01\n",
      "   2.0235362e-01  2.0633254e-01  2.0993233e-01  2.1321770e-01]\n",
      " [ 0.0000000e+00  1.2081221e-01  1.6600134e-01  1.8052537e-01\n",
      "   1.8979866e-01  1.9644351e-01  2.0169338e-01  2.0594191e-01\n",
      "   2.0961936e-01  2.1291724e-01  2.1582123e-01  2.1849489e-01]\n",
      " [-4.2824158e-06  7.7490572e-02  1.2792570e-01  1.5404485e-01\n",
      "   1.6895250e-01  1.7935817e-01  1.8718516e-01  1.9334807e-01\n",
      "   1.9843112e-01  2.0274365e-01  2.0659894e-01  2.1012219e-01]\n",
      " [-3.6718047e-05  1.1173969e-01  1.6059269e-01  1.7756097e-01\n",
      "   1.8786705e-01  1.9509484e-01  2.0068334e-01  2.0514289e-01\n",
      "   2.0901493e-01  2.1237167e-01  2.1538032e-01  2.1814800e-01]\n",
      " [ 1.0897785e-05  6.9223888e-02  1.1804044e-01  1.4636957e-01\n",
      "   1.6227744e-01  1.7342253e-01  1.8193032e-01  1.8860431e-01\n",
      "   1.9415298e-01  1.9883636e-01  2.0297266e-01  2.0674102e-01]]\n",
      "after DEX\n",
      "[[0. 0. 0. ... 0. 0. 0.]\n",
      " [0. 0. 0. ... 0. 0. 0.]\n",
      " [0. 0. 0. ... 0. 0. 0.]\n",
      " [0. 0. 0. ... 0. 0. 0.]\n",
      " [0. 0. 0. ... 0. 0. 0.]]\n"
     ]
    },
    {
     "name": "stderr",
     "output_type": "stream",
     "text": [
      "C:\\ProgramData\\Anaconda3\\lib\\site-packages\\sklearn\\decomposition\\dict_learning.py:160: RuntimeWarning:  Orthogonal matching pursuit ended prematurely due to linear\n",
      "dependence in the dictionary. The requested precision might not have been met.\n",
      "\n",
      "  copy_Xy=copy_cov).T\n"
     ]
    }
   ],
   "source": [
    "from sklearn.decomposition import MiniBatchDictionaryLearning as MBDL\n",
    "from sklearn.model_selection import train_test_split\n",
    "from sklearn.preprocessing import normalize as norm\n",
    "\n",
    "\n",
    "X = dfs.T\n",
    "train_data, test_data = train_test_split(X, test_size=0.4, random_state=0)\n",
    "\n",
    "model = MBDL(n_components=1024, n_iter=100)\n",
    "dex = model.fit(train_data).components_\n",
    "dex_norm  = norm(dex)\n",
    "\n",
    "from sklearn.decomposition import SparseCoder\n",
    "\n",
    "coder = SparseCoder(dictionary = dex_norm, transform_n_nonzero_coefs=20,\n",
    "                    transform_alpha=None, transform_algorithm=\"omp\")\n",
    "\n",
    "result = coder.transform(test_data)\n",
    "\n",
    "print(test_data)\n",
    "print(\"after DEX\")\n",
    "print(result)"
   ]
  }
 ],
 "metadata": {
  "kernelspec": {
   "display_name": "Python 3",
   "language": "python",
   "name": "python3"
  },
  "language_info": {
   "codemirror_mode": {
    "name": "ipython",
    "version": 3
   },
   "file_extension": ".py",
   "mimetype": "text/x-python",
   "name": "python",
   "nbconvert_exporter": "python",
   "pygments_lexer": "ipython3",
   "version": "3.6.4"
  },
  "varInspector": {
   "cols": {
    "lenName": 16,
    "lenType": 16,
    "lenVar": 40
   },
   "kernels_config": {
    "python": {
     "delete_cmd_postfix": "",
     "delete_cmd_prefix": "del ",
     "library": "var_list.py",
     "varRefreshCmd": "print(var_dic_list())"
    },
    "r": {
     "delete_cmd_postfix": ") ",
     "delete_cmd_prefix": "rm(",
     "library": "var_list.r",
     "varRefreshCmd": "cat(var_dic_list()) "
    }
   },
   "types_to_exclude": [
    "module",
    "function",
    "builtin_function_or_method",
    "instance",
    "_Feature"
   ],
   "window_display": false
  }
 },
 "nbformat": 4,
 "nbformat_minor": 2
}
